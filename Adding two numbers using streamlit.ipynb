{
 "cells": [
  {
   "cell_type": "code",
   "execution_count": 1,
   "id": "49ddc407",
   "metadata": {},
   "outputs": [],
   "source": [
    "import streamlit as st"
   ]
  },
  {
   "cell_type": "code",
   "execution_count": 3,
   "id": "7c7ccc2c",
   "metadata": {},
   "outputs": [],
   "source": [
    "a = st.number_input('Enter a number1')\n",
    "b = st.number_input('Enter a number2')"
   ]
  },
  {
   "cell_type": "code",
   "execution_count": 4,
   "id": "c44c85ad",
   "metadata": {},
   "outputs": [],
   "source": [
    "st.write('The total number is ', a+b)"
   ]
  },
  {
   "cell_type": "code",
   "execution_count": null,
   "id": "39a0f6ca",
   "metadata": {},
   "outputs": [],
   "source": []
  }
 ],
 "metadata": {
  "kernelspec": {
   "display_name": "Python 3",
   "language": "python",
   "name": "python3"
  },
  "language_info": {
   "codemirror_mode": {
    "name": "ipython",
    "version": 3
   },
   "file_extension": ".py",
   "mimetype": "text/x-python",
   "name": "python",
   "nbconvert_exporter": "python",
   "pygments_lexer": "ipython3",
   "version": "3.8.8"
  }
 },
 "nbformat": 4,
 "nbformat_minor": 5
}
